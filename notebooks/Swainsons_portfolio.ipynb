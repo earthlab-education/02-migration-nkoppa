{
 "cells": [
  {
   "cell_type": "markdown",
   "id": "4d002cbe",
   "metadata": {},
   "source": [
    "###Exploring the migration of the Swainson's Thrush (Catharus ustulatus) in the year 2023 using the data from the GBIF"
   ]
  },
  {
   "cell_type": "markdown",
   "id": "eb495805",
   "metadata": {},
   "source": [
    "\n",
    "Swainson’s Thrush (scientific name Catharus ustulatus) is a small to medium-sized migratory songbird in the thrush family (Turdidae). It is known for its olive-brown back, buff-colored underparts, a distinct pale eye-ring, and a slightly spotted breast. The species is distributed widely across northern North America for breeding, and winters in Central and South America. The species includes two main subspecies groups — a coastal russet-back group and an inland olive-back group — which differ in both appearance and migration routes, reflecting their evolutionary divergence ([Audubon.org](https://www.audubon.org/field-guide/bird/swainsons-thrush))\n",
    "\n",
    "As a classic Nearctic–Neotropical migrant, Swainson’s Thrush travels thousands of kilometers each year. Spring migration typically occurs from mid-March to early June, while fall migration spans late July to early November. Inland birds tend to follow interior routes through the central U.S. into Central America, whereas coastal populations use a more Pacific flyway. These birds rely on forested stopover habitats along their route for rest and refueling, making them particularly sensitive to habitat changes across a vast geographic range ([E-bird Status and Trends](https://science.ebird.org/en/status-and-trends/species/swathr/range-map)\n",
    "\n",
    "Though still relatively common, Swainson’s Thrush faces growing threats from habitat loss, window strikes during nocturnal flights, and potential climate-related shifts in food availability. Because different populations use distinct migration corridors, conservation strategies must account for their migratory connectivity — protecting not just breeding grounds, but also critical stopover and wintering habitats. Recent tracking efforts, such as those using Motus stations, are helping scientists better understand these movements and support targeted conservation actions ([Humpel et al., (2020)](https://www.nature.com/articles/s41598-020-62132-6))\n"
   ]
  },
  {
   "cell_type": "markdown",
   "id": "b182e4ad",
   "metadata": {},
   "source": [
    "![Swainson's Thrush](https://upload.wikimedia.org/wikipedia/commons/4/4c/Catharus_ustulatus.jpg)\n"
   ]
  }
 ],
 "metadata": {
  "language_info": {
   "name": "python"
  }
 },
 "nbformat": 4,
 "nbformat_minor": 5
}
