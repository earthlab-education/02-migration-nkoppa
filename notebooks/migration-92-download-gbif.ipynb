{
  "cells": [
    {
      "cell_type": "markdown",
      "id": "499716e2-65b1-4c8e-a525-28c1ee8adddf",
      "metadata": {},
      "source": [
        "# Migration Data Download\n",
        "\n",
        "Get occurrence data from the Global Biodiversity Information Facility\n",
        "(GBIF)\n",
        "\n",
        "<link rel=\"stylesheet\" type=\"text/css\" href=\"./assets/styles.css\"><div class=\"callout callout-style-default callout-titled callout-task\"><div class=\"callout-header\"><div class=\"callout-icon-container\"><i class=\"callout-icon\"></i></div><div class=\"callout-title-container flex-fill\">Try It: Import packages</div></div><div class=\"callout-body-container callout-body\"><p>In the imports cell, we’ve included some packages that you will need.\n",
        "Add imports for packages that will help you:</p>\n",
        "<ol type=\"1\">\n",
        "<li>Work with reproducible file paths</li>\n",
        "<li>Work with tabular data</li>\n",
        "</ol></div></div>"
      ]
    },
    {
      "cell_type": "code",
      "execution_count": 1,
      "id": "ef3cc946",
      "metadata": {},
      "outputs": [
        {
          "name": "stdout",
          "output_type": "stream",
          "text": [
            "Collecting pygbif\n",
            "  Using cached pygbif-0.6.5-py3-none-any.whl.metadata (12 kB)\n",
            "Requirement already satisfied: requests>2.7 in /opt/miniconda3/lib/python3.13/site-packages (from pygbif) (2.32.4)\n",
            "Collecting requests-cache (from pygbif)\n",
            "  Using cached requests_cache-1.2.1-py3-none-any.whl.metadata (9.9 kB)\n",
            "Collecting geojson_rewind (from pygbif)\n",
            "  Using cached geojson_rewind-1.2.0-py3-none-any.whl.metadata (4.5 kB)\n",
            "Collecting geomet (from pygbif)\n",
            "  Using cached geomet-1.1.0-py3-none-any.whl.metadata (11 kB)\n",
            "Collecting appdirs>=1.4.3 (from pygbif)\n",
            "  Using cached appdirs-1.4.4-py2.py3-none-any.whl.metadata (9.0 kB)\n",
            "Requirement already satisfied: matplotlib in /opt/miniconda3/lib/python3.13/site-packages (from pygbif) (3.10.7)\n",
            "Requirement already satisfied: charset_normalizer<4,>=2 in /opt/miniconda3/lib/python3.13/site-packages (from requests>2.7->pygbif) (3.3.2)\n",
            "Requirement already satisfied: idna<4,>=2.5 in /opt/miniconda3/lib/python3.13/site-packages (from requests>2.7->pygbif) (3.7)\n",
            "Requirement already satisfied: urllib3<3,>=1.21.1 in /opt/miniconda3/lib/python3.13/site-packages (from requests>2.7->pygbif) (2.5.0)\n",
            "Requirement already satisfied: certifi>=2017.4.17 in /opt/miniconda3/lib/python3.13/site-packages (from requests>2.7->pygbif) (2025.10.5)\n",
            "Requirement already satisfied: click in /opt/miniconda3/lib/python3.13/site-packages (from geomet->pygbif) (8.2.1)\n",
            "Requirement already satisfied: contourpy>=1.0.1 in /opt/miniconda3/lib/python3.13/site-packages (from matplotlib->pygbif) (1.3.3)\n",
            "Requirement already satisfied: cycler>=0.10 in /opt/miniconda3/lib/python3.13/site-packages (from matplotlib->pygbif) (0.12.1)\n",
            "Requirement already satisfied: fonttools>=4.22.0 in /opt/miniconda3/lib/python3.13/site-packages (from matplotlib->pygbif) (4.60.1)\n",
            "Requirement already satisfied: kiwisolver>=1.3.1 in /opt/miniconda3/lib/python3.13/site-packages (from matplotlib->pygbif) (1.4.9)\n",
            "Requirement already satisfied: numpy>=1.23 in /opt/miniconda3/lib/python3.13/site-packages (from matplotlib->pygbif) (2.3.4)\n",
            "Requirement already satisfied: packaging>=20.0 in /opt/miniconda3/lib/python3.13/site-packages (from matplotlib->pygbif) (25.0)\n",
            "Requirement already satisfied: pillow>=8 in /opt/miniconda3/lib/python3.13/site-packages (from matplotlib->pygbif) (12.0.0)\n",
            "Requirement already satisfied: pyparsing>=3 in /opt/miniconda3/lib/python3.13/site-packages (from matplotlib->pygbif) (3.2.5)\n",
            "Requirement already satisfied: python-dateutil>=2.7 in /opt/miniconda3/lib/python3.13/site-packages (from matplotlib->pygbif) (2.9.0.post0)\n",
            "Requirement already satisfied: six>=1.5 in /opt/miniconda3/lib/python3.13/site-packages (from python-dateutil>=2.7->matplotlib->pygbif) (1.17.0)\n",
            "Collecting attrs>=21.2 (from requests-cache->pygbif)\n",
            "  Using cached attrs-25.4.0-py3-none-any.whl.metadata (10 kB)\n",
            "Collecting cattrs>=22.2 (from requests-cache->pygbif)\n",
            "  Using cached cattrs-25.3.0-py3-none-any.whl.metadata (8.4 kB)\n",
            "Requirement already satisfied: platformdirs>=2.5 in /opt/miniconda3/lib/python3.13/site-packages (from requests-cache->pygbif) (4.3.7)\n",
            "Collecting url-normalize>=1.4 (from requests-cache->pygbif)\n",
            "  Using cached url_normalize-2.2.1-py3-none-any.whl.metadata (5.6 kB)\n",
            "Collecting typing-extensions>=4.14.0 (from cattrs>=22.2->requests-cache->pygbif)\n",
            "  Using cached typing_extensions-4.15.0-py3-none-any.whl.metadata (3.3 kB)\n",
            "Using cached pygbif-0.6.5-py3-none-any.whl (70 kB)\n",
            "Using cached appdirs-1.4.4-py2.py3-none-any.whl (9.6 kB)\n",
            "Using cached geojson_rewind-1.2.0-py3-none-any.whl (5.2 kB)\n",
            "Using cached geomet-1.1.0-py3-none-any.whl (31 kB)\n",
            "Using cached requests_cache-1.2.1-py3-none-any.whl (61 kB)\n",
            "Using cached attrs-25.4.0-py3-none-any.whl (67 kB)\n",
            "Using cached cattrs-25.3.0-py3-none-any.whl (70 kB)\n",
            "Using cached typing_extensions-4.15.0-py3-none-any.whl (44 kB)\n",
            "Using cached url_normalize-2.2.1-py3-none-any.whl (14 kB)\n",
            "Installing collected packages: appdirs, url-normalize, typing-extensions, geomet, geojson_rewind, attrs, cattrs, requests-cache, pygbif\n",
            "\u001b[2K  Attempting uninstall: typing-extensions\n",
            "\u001b[2K    Found existing installation: typing_extensions 4.12.2\n",
            "\u001b[2K    Uninstalling typing_extensions-4.12.2:\n",
            "\u001b[2K      Successfully uninstalled typing_extensions-4.12.2━━━━━━━━━━━\u001b[0m \u001b[32m2/9\u001b[0m [typing-extensions]\n",
            "\u001b[2K   \u001b[90m━━━━━━━━━━━━━━━━━━━━━━━━━━━━━━━━━━━━━━━━\u001b[0m \u001b[32m9/9\u001b[0m [pygbif]2m8/9\u001b[0m [pygbif]nsions]\n",
            "\u001b[1A\u001b[2KSuccessfully installed appdirs-1.4.4 attrs-25.4.0 cattrs-25.3.0 geojson_rewind-1.2.0 geomet-1.1.0 pygbif-0.6.5 requests-cache-1.2.1 typing-extensions-4.15.0 url-normalize-2.2.1\n"
          ]
        }
      ],
      "source": [
        "!pip install pygbif\n"
      ]
    },
    {
      "cell_type": "code",
      "execution_count": null,
      "id": "8710bf77",
      "metadata": {
        "template": "student"
      },
      "outputs": [],
      "source": [
        "import os\n",
        "import pathlib\n",
        "import time\n",
        "import zipfile\n",
        "from getpass import getpass\n",
        "from glob import glob\n",
        "from pathlib import Path\n",
        "import shutil\n",
        "import pandas as pd\n",
        "import geopandas as gpd\n",
        "from shapely.geometry import Point\n",
        "\n",
        "import pygbif.occurrences as occ\n",
        "import pygbif.species as species\n",
        "import requests"
      ]
    },
    {
      "cell_type": "markdown",
      "id": "a5a7d036-2a16-4cad-a33b-6f440f336402",
      "metadata": {},
      "source": [
        "For this challenge, you will need to download some data to the computer\n",
        "you’re working on. We suggest using the `earthpy` library we develop to\n",
        "manage your downloads, since it encapsulates many best practices as far\n",
        "as:\n",
        "\n",
        "1.  Where to store your data\n",
        "2.  Dealing with archived data like .zip files\n",
        "3.  Avoiding version control problems\n",
        "4.  Making sure your code works cross-platform\n",
        "5.  Avoiding duplicate downloads\n",
        "\n",
        "If you’re working on one of our assignments through GitHub Classroom, it\n",
        "also lets us build in some handy defaults so that you can see your data\n",
        "files while you work.\n",
        "\n",
        "<link rel=\"stylesheet\" type=\"text/css\" href=\"./assets/styles.css\"><div class=\"callout callout-style-default callout-titled callout-task\"><div class=\"callout-header\"><div class=\"callout-icon-container\"><i class=\"callout-icon\"></i></div><div class=\"callout-title-container flex-fill\">Try It: Create a project folder</div></div><div class=\"callout-body-container callout-body\"><p>The code below will help you get started with making a project\n",
        "directory</p>\n",
        "<ol type=\"1\">\n",
        "<li>Replace <code>'your-project-directory-name-here'</code> with a\n",
        "<strong>descriptive</strong> name</li>\n",
        "<li>Run the cell</li>\n",
        "<li>The code should have printed out the path to your data files. Check\n",
        "that your data directory exists and has data in it using the terminal or\n",
        "your Finder/File Explorer.</li>\n",
        "</ol></div></div>\n",
        "\n",
        "> **File structure**\n",
        ">\n",
        "> These days, a lot of people find your file by searching for them or\n",
        "> selecting from a `Bookmarks` or `Recents` list. Even if you don’t use\n",
        "> it, your computer also keeps files in a **tree** structure of folders.\n",
        "> Put another way, you can organize and find files by travelling along a\n",
        "> unique **path**, e.g. `My Drive` \\> `Documents` \\>\n",
        "> `My awesome project` \\> `A project file` where each subsequent folder\n",
        "> is **inside** the previous one. This is convenient because all the\n",
        "> files for a project can be in the same place, and both people and\n",
        "> computers can rapidly locate files they want, provided they remember\n",
        "> the path.\n",
        ">\n",
        "> You may notice that when Python prints out a file path like this, the\n",
        "> folder names are **separated** by a `/` or `\\` (depending on your\n",
        "> operating system). This character is called the **file separator**,\n",
        "> and it tells you that the next piece of the path is **inside** the\n",
        "> previous one."
      ]
    },
    {
      "cell_type": "code",
      "execution_count": 6,
      "id": "350445b5",
      "metadata": {
        "template": "student"
      },
      "outputs": [
        {
          "name": "stdout",
          "output_type": "stream",
          "text": [
            "/Users/niko2485/Library/CloudStorage/OneDrive-UCB-O365/Desktop/Data_ES/species_migration_data\n"
          ]
        }
      ],
      "source": [
        "# Create data directory\n",
        "data_dir = os.path.join(\n",
        "    #  specific base directory path\n",
        "    '/Users/niko2485/Library/CloudStorage/OneDrive-UCB-O365/Desktop/Data_ES',\n",
        "    #  project folder name\n",
        "    'species_migration_data'\n",
        ")\n",
        "\n",
        "# create the folder \n",
        "os.makedirs(data_dir, exist_ok=True)\n",
        "\n",
        "print(data_dir)"
      ]
    },
    {
      "cell_type": "markdown",
      "id": "fcacff13-2eda-4474-ae4d-8985a615a148",
      "metadata": {},
      "source": [
        "### STEP 1: Register and log in to GBIF\n",
        "\n",
        "You will need a [GBIF account](https://www.gbif.org/) to complete this\n",
        "challenge. You can use your GitHub account to authenticate with GBIF.\n",
        "Then, run the following code to enter your credentials for the rest of\n",
        "your session.\n",
        "\n",
        "<link rel=\"stylesheet\" type=\"text/css\" href=\"./assets/styles.css\"><div class=\"callout callout-style-default callout-error\"><div class=\"callout-header\"><div class=\"callout-icon-container\"><i class=\"callout-icon\"></i></div></div><div class=\"callout-body-container callout-body\"><p>This code is <strong>interactive</strong>, meaning that it will\n",
        "<strong>ask you for a response</strong>! The prompt can sometimes be\n",
        "hard to see if you are using VSCode – it appears at the\n",
        "<strong>top</strong> of your editor window.</p></div></div>\n",
        "\n",
        "> **Tip**\n",
        ">\n",
        "> If you need to save credentials across multiple sessions, you can\n",
        "> consider loading them in from a file like a `.env`…but make sure to\n",
        "> add it to .gitignore so you don’t commit your credentials to your\n",
        "> repository!\n",
        "\n",
        "> **Warning**\n",
        ">\n",
        "> Your email address **must** match the email you used to sign up for\n",
        "> GBIF!\n",
        "\n",
        "> **Tip**\n",
        ">\n",
        "> If you accidentally enter your credentials wrong, you can set\n",
        "> `reset=True` instead of `reset=False`."
      ]
    },
    {
      "cell_type": "code",
      "execution_count": 1,
      "id": "d51cae7f",
      "metadata": {},
      "outputs": [
        {
          "name": "stdout",
          "output_type": "stream",
          "text": [
            "GBIF creds set for this session.\n"
          ]
        }
      ],
      "source": [
        "import os\n",
        "os.environ[\"GBIF_USER\"]  = \"nkoppa\"\n",
        "os.environ[\"GBIF_PWD\"]   = \"Nk2603#$\"\n",
        "os.environ[\"GBIF_EMAIL\"] = \"nishakoppaa.com\"\n",
        "print(\"GBIF creds set for this session.\")\n"
      ]
    },
    {
      "cell_type": "code",
      "execution_count": 2,
      "id": "fe449f8a",
      "metadata": {},
      "outputs": [],
      "source": [
        "####--------------------------####\n",
        "#### DO NOT MODIFY THIS CODE! ####\n",
        "####--------------------------####\n",
        "# This code ASKS for your credentials \n",
        "# and saves it for the rest of the session.\n",
        "# NEVER put your credentials into your code!!!!\n",
        "\n",
        "# GBIF needs a username, password, and email \n",
        "# All 3 need to match the account\n",
        "reset = False\n",
        "\n",
        "# Request and store username\n",
        "if (not ('GBIF_USER'  in os.environ)) or reset:\n",
        "    os.environ['GBIF_USER'] = input('GBIF username:')\n",
        "\n",
        "# Securely request and store password\n",
        "if (not ('GBIF_PWD'  in os.environ)) or reset:\n",
        "    os.environ['GBIF_PWD'] = getpass('GBIF password:')\n",
        "    \n",
        "# Request and store account email address\n",
        "if (not ('GBIF_EMAIL'  in os.environ)) or reset:\n",
        "    os.environ['GBIF_EMAIL'] = input('GBIF email:')"
      ]
    },
    {
      "cell_type": "markdown",
      "id": "3586b2e0-3968-44a4-bb25-22d516ddd5d1",
      "metadata": {},
      "source": [
        "### STEP 2: Get the taxon key from GBIF\n",
        "\n",
        "One of the tricky parts about getting occurrence data from GBIF is that\n",
        "species often have multiple names in different contexts. Luckily, GBIF\n",
        "also provides a Name Backbone service that will translate scientific and\n",
        "colloquial names into unique identifiers. GBIF calls these identifiers\n",
        "**taxon keys**.\n",
        "\n",
        "<link rel=\"stylesheet\" type=\"text/css\" href=\"./assets/styles.css\"><div class=\"callout callout-style-default callout-titled callout-task\"><div class=\"callout-header\"><div class=\"callout-icon-container\"><i class=\"callout-icon\"></i></div><div class=\"callout-title-container flex-fill\">Try It</div></div><div class=\"callout-body-container callout-body\"><ol type=\"1\">\n",
        "<li>Put the species name, <code>{python}  scientific_name</code>, into\n",
        "the correct location in the code below.</li>\n",
        "<li>Examine the object you get back from the species query. What part of\n",
        "it do you think might be the taxon key?</li>\n",
        "<li>Extract and save the taxon key</li>\n",
        "</ol></div></div>"
      ]
    },
    {
      "cell_type": "code",
      "execution_count": null,
      "id": "6d361296",
      "metadata": {
        "template": "student"
      },
      "outputs": [
        {
          "name": "stdout",
          "output_type": "stream",
          "text": [
            "{'usageKey': 2490821, 'scientificName': 'Catharus ustulatus (Nuttall, 1840)', 'canonicalName': 'Catharus ustulatus', 'rank': 'SPECIES', 'status': 'ACCEPTED', 'confidence': 99, 'matchType': 'EXACT', 'kingdom': 'Animalia', 'phylum': 'Chordata', 'order': 'Passeriformes', 'family': 'Turdidae', 'genus': 'Catharus', 'species': 'Catharus ustulatus', 'kingdomKey': 1, 'phylumKey': 44, 'classKey': 212, 'orderKey': 729, 'familyKey': 5290, 'genusKey': 2490799, 'speciesKey': 2490821, 'class': 'Aves'}\n",
            "Taxon key: 2490821\n"
          ]
        }
      ],
      "source": [
        "\n",
        "\n",
        "# Now this will work\n",
        "backbone = species.name_backbone(name=\"Catharus ustulatus\")\n",
        "print(backbone)\n",
        "\n",
        "taxon_key = backbone[\"usageKey\"]\n",
        "print(\"Taxon key:\", taxon_key)"
      ]
    },
    {
      "cell_type": "markdown",
      "id": "f452db5f-305a-456d-a9e3-2b114530d129",
      "metadata": {},
      "source": [
        "### STEP 3: Download data from GBIF\n",
        "\n",
        "Downloading GBIF data is a multi-step process. However, we’ve provided\n",
        "you with a chunk of code that handles the API communications and caches\n",
        "the download. You’ll still need to customize your search.\n",
        "\n",
        "<link rel=\"stylesheet\" type=\"text/css\" href=\"./assets/styles.css\"><div class=\"callout callout-style-default callout-titled callout-task\"><div class=\"callout-header\"><div class=\"callout-icon-container\"><i class=\"callout-icon\"></i></div><div class=\"callout-title-container flex-fill\">Try It: Submit a request to GBIF</div></div><div class=\"callout-body-container callout-body\"><ol type=\"1\">\n",
        "<li><p>Replace <code>csv_file_pattern</code> with a string that will\n",
        "match <strong>any</strong> <code>.csv</code> file when used in the\n",
        "<code>.rglob()</code> method. HINT: the character <code>*</code>\n",
        "represents any number of any values except the file separator\n",
        "(e.g. <code>/</code> on UNIX systems)</p></li>\n",
        "<li><p>Add parameters to the GBIF download function,\n",
        "<code>occ.download()</code> to limit your query to:</p>\n",
        "<ul>\n",
        "<li>observations of <span data-__quarto_custom=\"true\"\n",
        "data-__quarto_custom_type=\"Shortcode\"\n",
        "data-__quarto_custom_context=\"Inline\"\n",
        "data-__quarto_custom_id=\"8\"></span></li>\n",
        "<li>from <span data-__quarto_custom=\"true\"\n",
        "data-__quarto_custom_type=\"Shortcode\"\n",
        "data-__quarto_custom_context=\"Inline\"\n",
        "data-__quarto_custom_id=\"9\"></span></li>\n",
        "<li>with spatial coordinates.</li>\n",
        "</ul></li>\n",
        "<li><p>Then, run the download. <strong>This can take a few\n",
        "minutes</strong>. You can check your downloads by logging on to the <a\n",
        "href=\"https://www.gbif.org/user/download\">GBIF website</a>.</p></li>\n",
        "</ol></div></div>"
      ]
    },
    {
      "cell_type": "code",
      "execution_count": null,
      "id": "0f432a70",
      "metadata": {
        "template": "student"
      },
      "outputs": [
        {
          "name": "stdout",
          "output_type": "stream",
          "text": [
            "Download status: RUNNING. Waiting 5 seconds...\n",
            "Download status: RUNNING. Waiting 5 seconds...\n",
            "Download status: RUNNING. Waiting 5 seconds...\n",
            "Download status: RUNNING. Waiting 5 seconds...\n",
            "Download status: RUNNING. Waiting 5 seconds...\n",
            "Download status: RUNNING. Waiting 5 seconds...\n",
            "Download status: RUNNING. Waiting 5 seconds...\n",
            "Download status: RUNNING. Waiting 5 seconds...\n",
            "Download status: RUNNING. Waiting 5 seconds...\n",
            "Download status: RUNNING. Waiting 5 seconds...\n",
            "Download status: RUNNING. Waiting 5 seconds...\n",
            "Download status: RUNNING. Waiting 5 seconds...\n",
            "Download status: RUNNING. Waiting 5 seconds...\n",
            "Download status: RUNNING. Waiting 5 seconds...\n",
            "Download status: RUNNING. Waiting 5 seconds...\n",
            "Download status: RUNNING. Waiting 5 seconds...\n",
            "Download status: RUNNING. Waiting 5 seconds...\n",
            "Download status: RUNNING. Waiting 5 seconds...\n",
            "Download status: RUNNING. Waiting 5 seconds...\n",
            "Download status: RUNNING. Waiting 5 seconds...\n",
            "Download status: RUNNING. Waiting 5 seconds...\n",
            "Download status: RUNNING. Waiting 5 seconds...\n",
            "Download status: RUNNING. Waiting 5 seconds...\n",
            "Download status: RUNNING. Waiting 5 seconds...\n",
            "Download status: RUNNING. Waiting 5 seconds...\n",
            "Download status: RUNNING. Waiting 5 seconds...\n",
            "Download status: RUNNING. Waiting 5 seconds...\n",
            "Download status: RUNNING. Waiting 5 seconds...\n",
            "Download status: RUNNING. Waiting 5 seconds...\n",
            "Download status: RUNNING. Waiting 5 seconds...\n",
            "Download status: RUNNING. Waiting 5 seconds...\n",
            "Download status: RUNNING. Waiting 5 seconds...\n",
            "Download status: RUNNING. Waiting 5 seconds...\n",
            "Download status: RUNNING. Waiting 5 seconds...\n",
            "Download status: RUNNING. Waiting 5 seconds...\n",
            "Download status: RUNNING. Waiting 5 seconds...\n",
            "Download status: RUNNING. Waiting 5 seconds...\n",
            "Download status: RUNNING. Waiting 5 seconds...\n",
            "Download status: RUNNING. Waiting 5 seconds...\n",
            "Download status: RUNNING. Waiting 5 seconds...\n",
            "Download status: RUNNING. Waiting 5 seconds...\n",
            "Download status: RUNNING. Waiting 5 seconds...\n",
            "Download status: RUNNING. Waiting 5 seconds...\n",
            "Download status: RUNNING. Waiting 5 seconds...\n",
            "Download status: RUNNING. Waiting 5 seconds...\n",
            "Download status: RUNNING. Waiting 5 seconds...\n",
            "Download status: RUNNING. Waiting 5 seconds...\n",
            "Download status: RUNNING. Waiting 5 seconds...\n",
            "Download status: RUNNING. Waiting 5 seconds...\n",
            "Download status: RUNNING. Waiting 5 seconds...\n",
            "Download status: RUNNING. Waiting 5 seconds...\n",
            "Download status: RUNNING. Waiting 5 seconds...\n",
            "Download status: RUNNING. Waiting 5 seconds...\n",
            "Download status: RUNNING. Waiting 5 seconds...\n",
            "Download status: RUNNING. Waiting 5 seconds...\n",
            "Download status: RUNNING. Waiting 5 seconds...\n",
            "Download status: RUNNING. Waiting 5 seconds...\n",
            "Download status: RUNNING. Waiting 5 seconds...\n",
            "Download status: RUNNING. Waiting 5 seconds...\n",
            "Download status: RUNNING. Waiting 5 seconds...\n",
            "Download status: RUNNING. Waiting 5 seconds...\n",
            "Download status: RUNNING. Waiting 5 seconds...\n",
            "Download status: RUNNING. Waiting 5 seconds...\n",
            "Download status: RUNNING. Waiting 5 seconds...\n",
            "Download status: RUNNING. Waiting 5 seconds...\n",
            "Download status: RUNNING. Waiting 5 seconds...\n",
            "Download status: RUNNING. Waiting 5 seconds...\n",
            "Download status: RUNNING. Waiting 5 seconds...\n",
            "Download status: RUNNING. Waiting 5 seconds...\n",
            "Download status: RUNNING. Waiting 5 seconds...\n",
            "Download status: RUNNING. Waiting 5 seconds...\n",
            "Download status: RUNNING. Waiting 5 seconds...\n",
            "Download status: RUNNING. Waiting 5 seconds...\n",
            "Download status: RUNNING. Waiting 5 seconds...\n",
            "Download status: RUNNING. Waiting 5 seconds...\n",
            "Download status: RUNNING. Waiting 5 seconds...\n",
            "Download status: RUNNING. Waiting 5 seconds...\n",
            "Download status: RUNNING. Waiting 5 seconds...\n",
            "Download status: RUNNING. Waiting 5 seconds...\n",
            "Download status: RUNNING. Waiting 5 seconds...\n",
            "Download status: RUNNING. Waiting 5 seconds...\n",
            "Download status: RUNNING. Waiting 5 seconds...\n",
            "Download status: RUNNING. Waiting 5 seconds...\n",
            "Download status: RUNNING. Waiting 5 seconds...\n",
            "Download status: RUNNING. Waiting 5 seconds...\n",
            "Download status: RUNNING. Waiting 5 seconds...\n",
            "Download status: RUNNING. Waiting 5 seconds...\n",
            "Download status: RUNNING. Waiting 5 seconds...\n",
            "Download status: RUNNING. Waiting 5 seconds...\n",
            "Download status: RUNNING. Waiting 5 seconds...\n",
            "Download status: RUNNING. Waiting 5 seconds...\n",
            "Download status: RUNNING. Waiting 5 seconds...\n",
            "Download status: RUNNING. Waiting 5 seconds...\n",
            "Download status: RUNNING. Waiting 5 seconds...\n",
            "Download status: RUNNING. Waiting 5 seconds...\n",
            "Download status: RUNNING. Waiting 5 seconds...\n",
            "Download status: RUNNING. Waiting 5 seconds...\n",
            "Download status: RUNNING. Waiting 5 seconds...\n",
            "Download status: RUNNING. Waiting 5 seconds...\n",
            "Download status: RUNNING. Waiting 5 seconds...\n",
            "Download status: RUNNING. Waiting 5 seconds...\n",
            "Download status: RUNNING. Waiting 5 seconds...\n",
            "Download status: RUNNING. Waiting 5 seconds...\n",
            "Download status: RUNNING. Waiting 5 seconds...\n",
            "Download status: RUNNING. Waiting 5 seconds...\n",
            "Download status: RUNNING. Waiting 5 seconds...\n",
            "Download status: RUNNING. Waiting 5 seconds...\n",
            "Download status: RUNNING. Waiting 5 seconds...\n",
            "Download status: RUNNING. Waiting 5 seconds...\n",
            "Download status: RUNNING. Waiting 5 seconds...\n",
            "Download status: RUNNING. Waiting 5 seconds...\n",
            "Download status: RUNNING. Waiting 5 seconds...\n",
            "Download status: RUNNING. Waiting 5 seconds...\n",
            "Download status: RUNNING. Waiting 5 seconds...\n",
            "Download status: RUNNING. Waiting 5 seconds...\n",
            "Download status: RUNNING. Waiting 5 seconds...\n",
            "Download status: RUNNING. Waiting 5 seconds...\n",
            "Download status: RUNNING. Waiting 5 seconds...\n",
            "Download status: RUNNING. Waiting 5 seconds...\n",
            "Download status: RUNNING. Waiting 5 seconds...\n",
            "Download status: RUNNING. Waiting 5 seconds...\n",
            "Download status: RUNNING. Waiting 5 seconds...\n",
            "Download status: RUNNING. Waiting 5 seconds...\n",
            "Download status: RUNNING. Waiting 5 seconds...\n",
            "Download status: RUNNING. Waiting 5 seconds...\n",
            "Download status: RUNNING. Waiting 5 seconds...\n",
            "Download status: RUNNING. Waiting 5 seconds...\n",
            "Download status: RUNNING. Waiting 5 seconds...\n",
            "Download status: RUNNING. Waiting 5 seconds...\n",
            "Download status: RUNNING. Waiting 5 seconds...\n",
            "Download status: RUNNING. Waiting 5 seconds...\n",
            "Download status: RUNNING. Waiting 5 seconds...\n",
            "Download status: RUNNING. Waiting 5 seconds...\n",
            "Download status: RUNNING. Waiting 5 seconds...\n",
            "Download status: RUNNING. Waiting 5 seconds...\n",
            "Download status: RUNNING. Waiting 5 seconds...\n",
            "Download status: RUNNING. Waiting 5 seconds...\n",
            "Download status: RUNNING. Waiting 5 seconds...\n",
            "Download status: RUNNING. Waiting 5 seconds...\n",
            "Download status: RUNNING. Waiting 5 seconds...\n",
            "Download status: RUNNING. Waiting 5 seconds...\n",
            "Download status: RUNNING. Waiting 5 seconds...\n",
            "Download status: RUNNING. Waiting 5 seconds...\n",
            "Download status: RUNNING. Waiting 5 seconds...\n",
            "Download status: RUNNING. Waiting 5 seconds...\n",
            "Download status: RUNNING. Waiting 5 seconds...\n",
            "Download status: RUNNING. Waiting 5 seconds...\n",
            "Download status: RUNNING. Waiting 5 seconds...\n",
            "Download status: RUNNING. Waiting 5 seconds...\n",
            "Download status: RUNNING. Waiting 5 seconds...\n",
            "Download status: RUNNING. Waiting 5 seconds...\n",
            "Download status: RUNNING. Waiting 5 seconds...\n",
            "Download status: RUNNING. Waiting 5 seconds...\n",
            "Download status: RUNNING. Waiting 5 seconds...\n",
            "Download status: RUNNING. Waiting 5 seconds...\n",
            "Download status: RUNNING. Waiting 5 seconds...\n",
            "Download status: RUNNING. Waiting 5 seconds...\n",
            "Download status: RUNNING. Waiting 5 seconds...\n",
            "Download status: RUNNING. Waiting 5 seconds...\n",
            "Download status: RUNNING. Waiting 5 seconds...\n",
            "Download status: RUNNING. Waiting 5 seconds...\n",
            "Download status: RUNNING. Waiting 5 seconds...\n",
            "Download status: RUNNING. Waiting 5 seconds...\n",
            "Download status: RUNNING. Waiting 5 seconds...\n",
            "Download status: RUNNING. Waiting 5 seconds...\n",
            "Download status: RUNNING. Waiting 5 seconds...\n",
            "Download status: RUNNING. Waiting 5 seconds...\n",
            "Download status: RUNNING. Waiting 5 seconds...\n",
            "Download status: RUNNING. Waiting 5 seconds...\n",
            "Download status: RUNNING. Waiting 5 seconds...\n",
            "Download status: RUNNING. Waiting 5 seconds...\n",
            "Download status: RUNNING. Waiting 5 seconds...\n",
            "Download status: RUNNING. Waiting 5 seconds...\n",
            "Download status: RUNNING. Waiting 5 seconds...\n",
            "Download status: RUNNING. Waiting 5 seconds...\n",
            "Download status: RUNNING. Waiting 5 seconds...\n",
            "Download status: RUNNING. Waiting 5 seconds...\n",
            "Download status: RUNNING. Waiting 5 seconds...\n",
            "Download status: RUNNING. Waiting 5 seconds...\n",
            "Download status: RUNNING. Waiting 5 seconds...\n",
            "Download status: RUNNING. Waiting 5 seconds...\n",
            "Download status: RUNNING. Waiting 5 seconds...\n",
            "Download status: RUNNING. Waiting 5 seconds...\n",
            "Download status: RUNNING. Waiting 5 seconds...\n",
            "Download status: RUNNING. Waiting 5 seconds...\n",
            "Download status: RUNNING. Waiting 5 seconds...\n",
            "Download status: RUNNING. Waiting 5 seconds...\n",
            "Download status: RUNNING. Waiting 5 seconds...\n",
            "Download status: RUNNING. Waiting 5 seconds...\n",
            "Download status: RUNNING. Waiting 5 seconds...\n",
            "Download status: RUNNING. Waiting 5 seconds...\n",
            "Download status: RUNNING. Waiting 5 seconds...\n"
          ]
        },
        {
          "name": "stderr",
          "output_type": "stream",
          "text": [
            "INFO:Download file size: 197337680 bytes\n",
            "INFO:On disk at /Users/niko2485/Library/CloudStorage/OneDrive-UCB-O365/Desktop/Data_ES/species_migration_data/0048067-251009101135966.zip\n"
          ]
        },
        {
          "data": {
            "text/plain": [
              "PosixPath('/Users/niko2485/Library/CloudStorage/OneDrive-UCB-O365/Desktop/Data_ES/species_migration_data/0048067-251009101135966.csv')"
            ]
          },
          "execution_count": 15,
          "metadata": {},
          "output_type": "execute_result"
        }
      ],
      "source": [
        "\n",
        "csv_file_pattern = \"*.csv\"  \n",
        "data_dir = Path(data_dir)  # Convert your existing string into a Path\n",
        "\n",
        "\n",
        "# Only download once\n",
        "if not any(data_dir.rglob(csv_file_pattern)):\n",
        "    # Only submit one request\n",
        "    if 'GBIF_DOWNLOAD_KEY' not in os.environ:\n",
        "        # Submit query to GBIF\n",
        "        gbif_query = occ.download(\n",
        "            [\n",
        "                f\"taxonKey = {taxon_key}\",\n",
        "                \"hasCoordinate = true\",\n",
        "                \"year >= 2015\",\n",
        "                \"year <= 2025\"\n",
        "            ],\n",
        "            user=os.environ[\"GBIF_USER\"],\n",
        "            pwd=os.environ[\"GBIF_PWD\"],\n",
        "            email=os.environ[\"GBIF_EMAIL\"]\n",
        "        )\n",
        "        # Take first result\n",
        "        dkey = gbif_query[0] if isinstance(gbif_query, (list, tuple)) else gbif_query\n",
        "        os.environ[\"GBIF_DOWNLOAD_KEY\"] = dkey\n",
        "\n",
        "    # Wait for the download to build\n",
        "    dld_key = os.environ[\"GBIF_DOWNLOAD_KEY\"]\n",
        "    wait = occ.download_meta(dld_key)[\"status\"]\n",
        "    while wait != \"SUCCEEDED\":\n",
        "        print(f\"Download status: {wait}. Waiting 5 seconds...\")\n",
        "        time.sleep(5)\n",
        "        wait = occ.download_meta(dld_key)[\"status\"]\n",
        "\n",
        "    # Download GBIF data\n",
        "    dld_info = occ.download_get(os.environ[\"GBIF_DOWNLOAD_KEY\"], path=data_dir)\n",
        "    dld_path = dld_info[\"path\"]\n",
        "\n",
        "    # Unzip GBIF data\n",
        "    with zipfile.ZipFile(dld_path) as dld_zip:\n",
        "        dld_zip.extractall(path=data_dir)\n",
        "\n",
        "    # Clean up the .zip file\n",
        "    os.remove(dld_path)\n",
        "\n",
        "# Find the extracted .csv file path (first result)\n",
        "original_gbif_path = next(data_dir.rglob(csv_file_pattern))\n",
        "original_gbif_path\n"
      ]
    },
    {
      "cell_type": "markdown",
      "id": "52cb7205-ef67-48e0-a318-7fba28465682",
      "metadata": {},
      "source": [
        "You might notice that the GBIF data filename isn’t very\n",
        "**descriptive**…at this point, you may want to clean up your data\n",
        "directory so that you know what the file is later on!\n",
        "\n",
        "<link rel=\"stylesheet\" type=\"text/css\" href=\"./assets/styles.css\"><div class=\"callout callout-style-default callout-titled callout-task\"><div class=\"callout-header\"><div class=\"callout-icon-container\"><i class=\"callout-icon\"></i></div><div class=\"callout-title-container flex-fill\">Try It</div></div><div class=\"callout-body-container callout-body\"><ol type=\"1\">\n",
        "<li>Replace ‘your-gbif-filename’ with a <strong>descriptive</strong>\n",
        "name.</li>\n",
        "<li>Run the cell</li>\n",
        "<li>Check your data folder. Is it organized the way you want?</li>\n",
        "</ol></div></div>"
      ]
    },
    {
      "cell_type": "code",
      "execution_count": null,
      "id": "f3d48139",
      "metadata": {
        "template": "student"
      },
      "outputs": [
        {
          "name": "stdout",
          "output_type": "stream",
          "text": [
            "✅ GBIF file moved to: /Users/niko2485/Library/CloudStorage/OneDrive-UCB-O365/Desktop/Data_ES/species_migration_data/swainsons_thrush_gbif.csv\n"
          ]
        }
      ],
      "source": [
        "# Give the download a descriptive name\n",
        "gbif_path = data_dir / 'swainsons_thrush_gbif.csv'  \n",
        "\n",
        "# Move file to descriptive path\n",
        "shutil.move(str(original_gbif_path), str(gbif_path))\n",
        "\n",
        "print(f\"GBIF file moved to: {gbif_path}\")"
      ]
    },
    {
      "cell_type": "markdown",
      "id": "47037264-65fc-4fb3-b43a-c53bcd4ba968",
      "metadata": {},
      "source": [
        "### STEP 4: Load the GBIF data into Python\n",
        "\n",
        "<link rel=\"stylesheet\" type=\"text/css\" href=\"./assets/styles.css\"><div class=\"callout callout-style-default callout-titled callout-task\"><div class=\"callout-header\"><div class=\"callout-icon-container\"><i class=\"callout-icon\"></i></div><div class=\"callout-title-container flex-fill\">Try It: Load GBIF data</div></div><div class=\"callout-body-container callout-body\"><p>Just like you did when wrangling your data from the data subset,\n",
        "you’ll need to load your GBIF data and convert it to a GeoDataFrame.</p></div></div>"
      ]
    },
    {
      "cell_type": "code",
      "execution_count": null,
      "id": "5f9e629b",
      "metadata": {
        "template": "student"
      },
      "outputs": [
        {
          "name": "stderr",
          "output_type": "stream",
          "text": [
            "/var/folders/z3/q2ks8l3j5ld379622q6b9gg40000gp/T/ipykernel_57512/4266069659.py:2: DtypeWarning: Columns (10,14,16,38,39,40,41,43,45,46,48) have mixed types. Specify dtype option on import or set low_memory=False.\n",
            "  df_swainsons = pd.read_csv(gbif_path, sep=\"\\t\")\n"
          ]
        },
        {
          "name": "stdout",
          "output_type": "stream",
          "text": [
            "basisOfRecord\n",
            "HUMAN_OBSERVATION      1954000\n",
            "MACHINE_OBSERVATION       3761\n",
            "PRESERVED_SPECIMEN         816\n",
            "LIVING_SPECIMEN             71\n",
            "MATERIAL_SAMPLE             14\n",
            "Name: count, dtype: int64\n"
          ]
        }
      ],
      "source": [
        "# Load the GBIF data\n",
        "df_swainsons = pd.read_csv(gbif_path, sep=\"\\t\")  \n",
        "df_swainsons.head()\n",
        "\n"
      ]
    },
    {
      "cell_type": "markdown",
      "id": "3789643c",
      "metadata": {},
      "source": [
        "Converting to GeoDataFrame"
      ]
    },
    {
      "cell_type": "code",
      "execution_count": null,
      "id": "e4eebfa6",
      "metadata": {},
      "outputs": [],
      "source": [
        "\n",
        "#filtering out the invalid coordinates\n",
        "df_swainsons = df_swainsons[df_swainsons[\"decimalLatitude\"].notna() & df_swainsons[\"decimalLongitude\"].notna()]\n",
        "df_swainsons = df_swainsons[\n",
        "    (df_swainsons[\"decimalLatitude\"].between(-90, 90)) &\n",
        "    (df_swainsons[\"decimalLongitude\"].between(-180, 180))\n",
        "].copy()\n",
        "\n",
        "#converting to geodataframe\n",
        "swainsons_gdf = gpd.GeoDataFrame(\n",
        "    df_swainsons,\n",
        "    geometry=gpd.points_from_xy(df_swainsons[\"decimalLongitude\"], df_swainsons[\"decimalLatitude\"]),\n",
        "    crs=\"EPSG:4326\"  # WGS84 latitude/longitude\n",
        ")\n",
        "# Check results\n",
        "\n",
        "basisOfRecord_table = df_swainsons['basisOfRecord'].value_counts()\n",
        "\n",
        "# Print summary table\n",
        "print(basisOfRecord_table)"
      ]
    },
    {
      "cell_type": "markdown",
      "id": "91c8f771-29c1-4deb-acd2-ce0cba5800c5",
      "metadata": {},
      "source": [
        "# STEP -1: Wrap up\n",
        "\n",
        "Don’t forget to store your variables so you can use them in other\n",
        "notebooks! Replace `var1` and `var2` with the variable you want to save,\n",
        "separated by spaces."
      ]
    },
    {
      "cell_type": "code",
      "execution_count": null,
      "id": "b4ed5221",
      "metadata": {},
      "outputs": [],
      "source": [
        "%store df_swainsons swainsons_gdf"
      ]
    },
    {
      "cell_type": "markdown",
      "id": "483de54c-9287-4ec3-ba27-26382dae3c62",
      "metadata": {},
      "source": [
        "Finally, be sure to `Restart` and `Run all` to make sure your notebook\n",
        "works all the way through!"
      ]
    }
  ],
  "metadata": {
    "kernelspec": {
      "display_name": "base",
      "language": "python",
      "name": "python3"
    },
    "language_info": {
      "codemirror_mode": {
        "name": "ipython",
        "version": 3
      },
      "file_extension": ".py",
      "mimetype": "text/x-python",
      "name": "python",
      "nbconvert_exporter": "python",
      "pygments_lexer": "ipython3",
      "version": "3.13.5"
    }
  },
  "nbformat": 4,
  "nbformat_minor": 5
}
